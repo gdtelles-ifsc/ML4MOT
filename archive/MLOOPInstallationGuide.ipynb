{
 "cells": [
  {
   "cell_type": "markdown",
   "metadata": {},
   "source": [
    "#### Guia de instalação do M-LOOP"
   ]
  },
  {
   "cell_type": "markdown",
   "metadata": {},
   "source": [
    "1. Instale o Anaconda. Se já o tiver instaldo, certifique-se de que ele está atualizado executando:"
   ]
  },
  {
   "cell_type": "raw",
   "metadata": {},
   "source": [
    "conda update conda"
   ]
  },
  {
   "cell_type": "markdown",
   "metadata": {},
   "source": [
    "2. Crie um ambiente com o Python 3.7. Use o comando"
   ]
  },
  {
   "cell_type": "raw",
   "metadata": {},
   "source": [
    "conda create -n myenv python=3.7.6"
   ]
  },
  {
   "cell_type": "markdown",
   "metadata": {},
   "source": [
    "A versão mais recente do M-LOOP inclui um learner de rede neural, que depende do TensorFlow. O TensorFlow, por sua vez, só suporta o Python 3.7.\n",
    "'myenv' deve ser o nome do seu ambiente. Para ativá-lo, use"
   ]
  },
  {
   "cell_type": "raw",
   "metadata": {},
   "source": [
    "conda activate myenv"
   ]
  },
  {
   "cell_type": "markdown",
   "metadata": {},
   "source": [
    "Para desativá-lo"
   ]
  },
  {
   "cell_type": "raw",
   "metadata": {},
   "source": [
    "conda deactivate"
   ]
  },
  {
   "cell_type": "markdown",
   "metadata": {},
   "source": [
    "Para checar a versão do Python"
   ]
  },
  {
   "cell_type": "raw",
   "metadata": {},
   "source": [
    "python --version"
   ]
  },
  {
   "cell_type": "markdown",
   "metadata": {},
   "source": [
    "Os próximos passos todos tomam lugar dentro do ambiente criado para uso do MLOOP."
   ]
  },
  {
   "cell_type": "markdown",
   "metadata": {},
   "source": [
    "3. Usando o seguinte comando, onde 'package' é o nome do pacote"
   ]
  },
  {
   "cell_type": "raw",
   "metadata": {},
   "source": [
    "conda install package"
   ]
  },
  {
   "cell_type": "markdown",
   "metadata": {},
   "source": [
    "Instale os seguintes pacotes\n",
    "- docutils\n",
    "- matplotlib\n",
    "- numpy\n",
    "- pip\n",
    "- pytest\n",
    "- setuptools\n",
    "- scikit-learn\n",
    "- scipy\n",
    "- tensorflow"
   ]
  },
  {
   "cell_type": "markdown",
   "metadata": {},
   "source": [
    "Para instalar o pacote `chart-studio`, use"
   ]
  },
  {
   "cell_type": "raw",
   "metadata": {},
   "source": [
    "conda install -c plotly chart-studio"
   ]
  },
  {
   "cell_type": "markdown",
   "metadata": {},
   "source": [
    "Para checar quais pacotes estão instalados, use"
   ]
  },
  {
   "cell_type": "raw",
   "metadata": {},
   "source": [
    "conda list"
   ]
  },
  {
   "cell_type": "markdown",
   "metadata": {},
   "source": [
    "4. Acesse [esta](https://zenodo.org/record/1435248#.Xjwnf-HQ_eQ) página para obter a versão do M-LOOP utilizada por [Tranter et al. (arxiv:1805.00654)](https://arxiv.org/abs/1805.00654), uma extensão ao código [original](https://m-loop.readthedocs.io/en/latest/index.html) mantido por Michael Hush, usado pela primeira vez por [Wigley et al. (arxiv:1507.04964)](https://arxiv.org/abs/1507.04964).  Simplesmente faça o download do arquivo `Tranter_et_al_optimization_code.zip` e extraia a pasta no diretório de sua escolha. \n",
    "\n",
    "5. No diretório principal dos arquivos de instalação (onde se encontra o scrip `setup.py`), execute"
   ]
  },
  {
   "cell_type": "raw",
   "metadata": {},
   "source": [
    "python setup.py develop"
   ]
  },
  {
   "cell_type": "markdown",
   "metadata": {},
   "source": [
    "Este script deve instalar o M-LOOP e checar todas as suas dependências."
   ]
  },
  {
   "cell_type": "markdown",
   "metadata": {},
   "source": [
    "6. A versão atual do M-LOOP usa o módulo `plotly.plotly`, que foi descontinuado em favor em favor do módulo `chart-studio.plotly`. Para evitar avisos e ficarmos em linha com a versão mais atualizada possível dos pacotes utilizados, faremos essa substituição simples. A partir do diretório base dos arquivos de instalação do M-LOOP (novamente, onde está `setup.py`), abra `mloop/visualizations.py` e substitua a linha"
   ]
  },
  {
   "cell_type": "raw",
   "metadata": {},
   "source": [
    "import plotly.plotly as py"
   ]
  },
  {
   "cell_type": "markdown",
   "metadata": {},
   "source": [
    "Por"
   ]
  },
  {
   "cell_type": "raw",
   "metadata": {},
   "source": [
    "import chart_studio.plotly as py"
   ]
  },
  {
   "cell_type": "markdown",
   "metadata": {},
   "source": [
    "7. No diretório base, execute"
   ]
  },
  {
   "cell_type": "raw",
   "metadata": {},
   "source": [
    "python setup.py test"
   ]
  },
  {
   "cell_type": "markdown",
   "metadata": {},
   "source": [
    "Para fazer a verificação da instalação. O processo deve levar em torno de 5 minutos, encontrar erro nenhum e emitir apenas um aviso (avisos, ao contrário de erros, podem ser ignorados, embora estejamos tentando evitá-los também). O aviso emitido deve referir-se à descontinuação do módulo `imp` em favor de `importlib`. O uso de `imp`, todavia, é feito pelo Tensorflow, portanto toleraremos esse aviso."
   ]
  },
  {
   "cell_type": "markdown",
   "metadata": {},
   "source": [
    "Tendo seguido todos esses passos, deve-se ter uma instalação estável da última versão do M-LOOP, incluindo o learner por rede neural. Por favor entre em contato me caso de quaisquer problemas."
   ]
  }
 ],
 "metadata": {
  "kernelspec": {
   "display_name": "Python 3",
   "language": "python",
   "name": "python3"
  },
  "language_info": {
   "codemirror_mode": {
    "name": "ipython",
    "version": 3
   },
   "file_extension": ".py",
   "mimetype": "text/x-python",
   "name": "python",
   "nbconvert_exporter": "python",
   "pygments_lexer": "ipython3",
   "version": "3.8.5"
  }
 },
 "nbformat": 4,
 "nbformat_minor": 4
}
