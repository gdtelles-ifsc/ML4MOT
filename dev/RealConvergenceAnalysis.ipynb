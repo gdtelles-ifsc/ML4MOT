{
 "cells": [
  {
   "cell_type": "code",
   "execution_count": 1,
   "metadata": {},
   "outputs": [],
   "source": [
    "import numpy as np\n",
    "from matplotlib import pyplot as plt\n",
    "import csv\n",
    "import shutil"
   ]
  },
  {
   "cell_type": "code",
   "execution_count": 2,
   "metadata": {},
   "outputs": [],
   "source": [
    "import mloop.interfaces as mli\n",
    "import mloop.controllers as mlc\n",
    "import mloop.visualizations as mlv"
   ]
  },
  {
   "cell_type": "code",
   "execution_count": 3,
   "metadata": {},
   "outputs": [],
   "source": [
    "np.random.seed(24)"
   ]
  },
  {
   "cell_type": "code",
   "execution_count": 4,
   "metadata": {},
   "outputs": [],
   "source": [
    "np.set_printoptions(suppress=True)"
   ]
  },
  {
   "cell_type": "markdown",
   "metadata": {},
   "source": [
    "A partir de um conjunto de pontos gerados da solução analítica, vamos analisar a convegência do fitting."
   ]
  },
  {
   "cell_type": "markdown",
   "metadata": {},
   "source": [
    "### Análise de uma curva"
   ]
  },
  {
   "cell_type": "markdown",
   "metadata": {},
   "source": [
    "Vamos trabalhar com a curva em ```curves[0]```. Utilizamos a classe ```MOTinterface```, que, contém a rotina de ajuste dos parâmetros da curva."
   ]
  },
  {
   "cell_type": "code",
   "execution_count": 5,
   "metadata": {},
   "outputs": [],
   "source": [
    "from MOT2 import MOTinterface"
   ]
  },
  {
   "cell_type": "markdown",
   "metadata": {},
   "source": [
    "Uma instância da interface requer apenas um argumento, ```simultaneous_fitting```, que determina se ```g``` e ```L``` serão ajustados simultaneamente após seus ajustes individuais. Seu valor padrão é ```True```."
   ]
  },
  {
   "cell_type": "code",
   "execution_count": 6,
   "metadata": {},
   "outputs": [],
   "source": [
    "def main(n1trust,n2trust,azero=None,bzero=None):\n",
    "    \"\"\"Creates an instance of the MOTinterface class, then\n",
    "    a controller with that interface and a series of \n",
    "    configurations (that can be found in the M-LOOP \n",
    "    documentation). Lastly, the optimize() method is called\n",
    "    to start the process.\"\"\"\n",
    "    interface = MOTinterface(n1trust,n2trust,azero,bzero)\n",
    "    controller = mlc.create_controller(interface,\n",
    "                                       num_params = 3,\n",
    "                                       min_boundary = [1,0.1,2],\n",
    "                                       max_boundary = [2,1,3],\n",
    "                                       first_params = [1.15,0.4,2.6],\n",
    "                                       max_num_runs = 1,\n",
    "                                       cost_has_noise = True,\n",
    "                                       no_delay = False)\n",
    "    controller.optimize()\n",
    "    \n",
    "    return controller"
   ]
  },
  {
   "cell_type": "markdown",
   "metadata": {},
   "source": [
    "Escrevemos os dados da curva no arquivo que o programa procura"
   ]
  },
  {
   "cell_type": "code",
   "execution_count": 7,
   "metadata": {},
   "outputs": [],
   "source": [
    "n1s = [0.6]\n",
    "n2s = [1.6]"
   ]
  },
  {
   "cell_type": "code",
   "execution_count": 8,
   "metadata": {},
   "outputs": [
    {
     "name": "stdout",
     "output_type": "stream",
     "text": [
      "INFO     Optimization started.\n",
      "INFO     Run:1 (training)\n",
      "INFO     params [1.15 0.4  2.6 ]\n"
     ]
    },
    {
     "data": {
      "image/png": "[encoded data removed]",
      "text/plain": [
       "<Figure size 432x288 with 1 Axes>"
      ]
     },
     "metadata": {
      "needs_background": "light"
     },
     "output_type": "display_data"
    },
    {
     "name": "stdout",
     "output_type": "stream",
     "text": [
      "0.14014029078411255 [0.01505821]\n",
      "0.08819294670104888 0.002961241525182818\n",
      "0.0032515050792879634 0.003894332646113442\n",
      "INFO     cost 0.14014029078411255 +/- 0.001\n",
      "INFO     Controller finished. Closing down M-LOOP. Please wait a moment...\n",
      "INFO     Optimization ended because:-\n",
      "INFO     Maximum number of runs reached.\n",
      "INFO     Results:-\n",
      "INFO     Best parameters found:[1.15 0.4  2.6 ]\n",
      "INFO     Best cost returned:0.14014029078411255 +/- 0.001\n",
      "INFO     Best run number:1\n",
      "INFO     Predicted best parameters:[1.15 0.4  2.6 ]\n",
      "INFO     Predicted best cost:[0.14014029] +/- [0.00447214]\n",
      "INFO     M-LOOP Done.\n"
     ]
    }
   ],
   "source": [
    "for n1,n2 in zip(n1s,n2s):\n",
    "    shutil.copyfile('../data/MOT1pdbak.txt', '../data/MOT1pd.txt')\n",
    "    main(n1,n2,False,False)"
   ]
  },
  {
   "cell_type": "markdown",
   "metadata": {},
   "source": [
    "Na maioria dos casos ou b, ou a, vai claramente a 0, reforçando a proposta de definir um deles como 0 a priori. Entretanto, em alguns casos, os dois dão valores de ordem e-2 ou e-3 gerando bons ajustes. "
   ]
  },
  {
   "cell_type": "markdown",
   "metadata": {},
   "source": [
    "### Regimes a=0, b=0"
   ]
  },
  {
   "cell_type": "code",
   "execution_count": 9,
   "metadata": {},
   "outputs": [
    {
     "ename": "FileNotFoundError",
     "evalue": "[Errno 2] No such file or directory: 'MOT1pdbak.txt'",
     "output_type": "error",
     "traceback": [
      "\u001b[0;31m---------------------------------------------------------------------------\u001b[0m",
      "\u001b[0;31mFileNotFoundError\u001b[0m                         Traceback (most recent call last)",
      "\u001b[0;32m<ipython-input-9-c09cdec2794d>\u001b[0m in \u001b[0;36m<module>\u001b[0;34m\u001b[0m\n\u001b[0;32m----> 1\u001b[0;31m \u001b[0mshutil\u001b[0m\u001b[0;34m.\u001b[0m\u001b[0mcopyfile\u001b[0m\u001b[0;34m(\u001b[0m\u001b[0;34m'MOT1pdbak.txt'\u001b[0m\u001b[0;34m,\u001b[0m \u001b[0;34m'MOT1pd.txt'\u001b[0m\u001b[0;34m)\u001b[0m\u001b[0;34m\u001b[0m\u001b[0;34m\u001b[0m\u001b[0m\n\u001b[0m\u001b[1;32m      2\u001b[0m \u001b[0mmain\u001b[0m\u001b[0;34m(\u001b[0m\u001b[0;36m0.1\u001b[0m\u001b[0;34m,\u001b[0m\u001b[0;36m0.2\u001b[0m\u001b[0;34m,\u001b[0m\u001b[0;32mTrue\u001b[0m\u001b[0;34m,\u001b[0m\u001b[0;32mFalse\u001b[0m\u001b[0;34m)\u001b[0m\u001b[0;34m\u001b[0m\u001b[0;34m\u001b[0m\u001b[0m\n",
      "\u001b[0;32m~/anaconda3/envs/MLOOPcopy/lib/python3.7/shutil.py\u001b[0m in \u001b[0;36mcopyfile\u001b[0;34m(src, dst, follow_symlinks)\u001b[0m\n\u001b[1;32m    118\u001b[0m         \u001b[0mos\u001b[0m\u001b[0;34m.\u001b[0m\u001b[0msymlink\u001b[0m\u001b[0;34m(\u001b[0m\u001b[0mos\u001b[0m\u001b[0;34m.\u001b[0m\u001b[0mreadlink\u001b[0m\u001b[0;34m(\u001b[0m\u001b[0msrc\u001b[0m\u001b[0;34m)\u001b[0m\u001b[0;34m,\u001b[0m \u001b[0mdst\u001b[0m\u001b[0;34m)\u001b[0m\u001b[0;34m\u001b[0m\u001b[0;34m\u001b[0m\u001b[0m\n\u001b[1;32m    119\u001b[0m     \u001b[0;32melse\u001b[0m\u001b[0;34m:\u001b[0m\u001b[0;34m\u001b[0m\u001b[0;34m\u001b[0m\u001b[0m\n\u001b[0;32m--> 120\u001b[0;31m         \u001b[0;32mwith\u001b[0m \u001b[0mopen\u001b[0m\u001b[0;34m(\u001b[0m\u001b[0msrc\u001b[0m\u001b[0;34m,\u001b[0m \u001b[0;34m'rb'\u001b[0m\u001b[0;34m)\u001b[0m \u001b[0;32mas\u001b[0m \u001b[0mfsrc\u001b[0m\u001b[0;34m:\u001b[0m\u001b[0;34m\u001b[0m\u001b[0;34m\u001b[0m\u001b[0m\n\u001b[0m\u001b[1;32m    121\u001b[0m             \u001b[0;32mwith\u001b[0m \u001b[0mopen\u001b[0m\u001b[0;34m(\u001b[0m\u001b[0mdst\u001b[0m\u001b[0;34m,\u001b[0m \u001b[0;34m'wb'\u001b[0m\u001b[0;34m)\u001b[0m \u001b[0;32mas\u001b[0m \u001b[0mfdst\u001b[0m\u001b[0;34m:\u001b[0m\u001b[0;34m\u001b[0m\u001b[0;34m\u001b[0m\u001b[0m\n\u001b[1;32m    122\u001b[0m                 \u001b[0mcopyfileobj\u001b[0m\u001b[0;34m(\u001b[0m\u001b[0mfsrc\u001b[0m\u001b[0;34m,\u001b[0m \u001b[0mfdst\u001b[0m\u001b[0;34m)\u001b[0m\u001b[0;34m\u001b[0m\u001b[0;34m\u001b[0m\u001b[0m\n",
      "\u001b[0;31mFileNotFoundError\u001b[0m: [Errno 2] No such file or directory: 'MOT1pdbak.txt'"
     ]
    }
   ],
   "source": [
    "shutil.copyfile('MOT1pdbak.txt', 'MOT1pd.txt')\n",
    "main(0.1,0.2,True,False)"
   ]
  },
  {
   "cell_type": "markdown",
   "metadata": {},
   "source": [
    "shutil.copyfile('MOT1pdbak.txt', 'MOT1pd.txt')\n",
    "main(0.1,0.2,False,True)"
   ]
  }
 ],
 "metadata": {
  "kernelspec": {
   "display_name": "MLOOPcopy",
   "language": "python",
   "name": "mloopcopy"
  },
  "language_info": {
   "codemirror_mode": {
    "name": "ipython",
    "version": 3
   },
   "file_extension": ".py",
   "mimetype": "text/x-python",
   "name": "python",
   "nbconvert_exporter": "python",
   "pygments_lexer": "ipython3",
   "version": "3.7.6"
  }
 },
 "nbformat": 4,
 "nbformat_minor": 4
}
