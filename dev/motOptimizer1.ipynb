{
 "cells": [
  {
   "cell_type": "code",
   "execution_count": 1,
   "metadata": {},
   "outputs": [],
   "source": [
    "import matplotlib.pyplot as plt\n",
    "import numpy as np\n",
    "from scipy import optimize"
   ]
  },
  {
   "cell_type": "code",
   "execution_count": 2,
   "metadata": {},
   "outputs": [],
   "source": [
    "import mloop.interfaces as mli\n",
    "import mloop.controllers as mlc\n",
    "import mloop.visualizations as mlv"
   ]
  },
  {
   "cell_type": "code",
   "execution_count": 3,
   "metadata": {},
   "outputs": [],
   "source": [
    "import os\n",
    "import shutil\n",
    "import time\n",
    "import configparser"
   ]
  },
  {
   "cell_type": "code",
   "execution_count": 4,
   "metadata": {},
   "outputs": [],
   "source": [
    "np.random.seed(42)"
   ]
  },
  {
   "cell_type": "markdown",
   "metadata": {},
   "source": [
    "Vamos começar fazendo um gerador de pontos ao longo da curva de carga, com ruído. Vamos utilizar a curva de carga vista na tese para comparação."
   ]
  },
  {
   "cell_type": "code",
   "execution_count": 5,
   "metadata": {},
   "outputs": [],
   "source": [
    "class MOT():\n",
    "    \n",
    "    def __init__(self,L,g,b,w):\n",
    "        self.loading_rate = L\n",
    "        self.gamma = g\n",
    "        self.b = b\n",
    "        self.gaussian_width = w\n",
    "        self.measurement_times = np.array([])\n",
    "        self.measurements = np.array([])\n",
    "        self.noisy_measurements = np.array([])\n",
    "        \n",
    "    def _a(self):\n",
    "        return self.gamma\n",
    "    \n",
    "    def _b(self):\n",
    "        return self.b\n",
    "    \n",
    "    def N(self,t):\n",
    "        a = self._a()\n",
    "        b = self._b()\n",
    "        D = np.sqrt(a**2 + 4*self.loading_rate*b)\n",
    "        return D/(2*b)*np.tanh(D*t/2 + np.arctanh(a/D)) - a/(2*b)\n",
    "    \n",
    "    def load_MOT(self,dt,endtime):\n",
    "        self.measurement_times = np.arange(0,endtime,dt)\n",
    "        self.measurements = np.array([[t,self.N(t)] for t in self.measurement_times])\n",
    "        return None\n",
    "    \n",
    "    def measure_loading(self):\n",
    "        nom = len(self.measurements)\n",
    "        self.noise = np.array([[0,(np.random.random()-0.5)*(10e-3*np.random.random())] for i in list(range(nom))])\n",
    "        self.noisy_measurements = self.measurements + self.noise\n",
    "        return None\n",
    "                            \n",
    "    def return_loading_curve(self):\n",
    "        plt.scatter(self.noisy_measurements[:,0],self.noisy_measurements[:,1],s=10,alpha=0.1)\n",
    "        return self.noisy_measurements"
   ]
  },
  {
   "cell_type": "markdown",
   "metadata": {},
   "source": [
    "Vamos definir nosso primeiro experimento, MOT1"
   ]
  },
  {
   "cell_type": "code",
   "execution_count": 6,
   "metadata": {},
   "outputs": [],
   "source": [
    "MOT1 = MOT(0.20,0.72,0.074,0.082)"
   ]
  },
  {
   "cell_type": "code",
   "execution_count": 7,
   "metadata": {},
   "outputs": [],
   "source": [
    "MOT1.load_MOT(0.005,10)"
   ]
  },
  {
   "cell_type": "markdown",
   "metadata": {},
   "source": [
    "~10ksample (1-0.5ms)"
   ]
  },
  {
   "cell_type": "code",
   "execution_count": 8,
   "metadata": {},
   "outputs": [],
   "source": [
    "MOT1.measure_loading()"
   ]
  },
  {
   "cell_type": "code",
   "execution_count": 9,
   "metadata": {},
   "outputs": [
    {
     "data": {
      "image/png": "[encoded data removed]",
      "text/plain": [
       "<Figure size 432x288 with 1 Axes>"
      ]
     },
     "metadata": {
      "needs_background": "light"
     },
     "output_type": "display_data"
    }
   ],
   "source": [
    "loading_curve = MOT1.return_loading_curve()\n",
    "plt.show()"
   ]
  },
  {
   "cell_type": "markdown",
   "metadata": {},
   "source": [
    "## Obtenção dos parâmetros"
   ]
  },
  {
   "cell_type": "markdown",
   "metadata": {},
   "source": [
    "A obtenção dos parâmetros é feita em estágios, a partir da análise feita da solução analítica. Os parâmetros L e gamma podem ser obtidos a partir das duas soluções aproximadas  \n",
    "\n",
    "$$\\begin{align}\n",
    "N_1(t) = Lt && N_2(t) = \\frac{L}{\\gamma}\\left(1-e^{-\\gamma t}\\right)\n",
    "\\end{align}$$\n",
    "\n",
    "Os tempos $t_1$ e $t_2$ definem a região de confiança para cada uma das soluções"
   ]
  },
  {
   "cell_type": "code",
   "execution_count": 10,
   "metadata": {},
   "outputs": [],
   "source": [
    "t1 = 0.3\n",
    "t2 = 0.8"
   ]
  },
  {
   "cell_type": "code",
   "execution_count": 11,
   "metadata": {},
   "outputs": [],
   "source": [
    "def n1(t,L):\n",
    "    return L*t\n",
    "\n",
    "def n2(t,L,g):\n",
    "    return (L/g)*(1-np.exp(-g*t))"
   ]
  },
  {
   "cell_type": "markdown",
   "metadata": {},
   "source": [
    "Separamos os pontos que podem ser utilizados nos ajustes com cada solução."
   ]
  },
  {
   "cell_type": "code",
   "execution_count": 12,
   "metadata": {},
   "outputs": [],
   "source": [
    "data_point = 1\n",
    "n1_fitting_data = np.array([loading_curve[0]])\n",
    "while loading_curve[data_point,0] <= t1:\n",
    "    n1_fitting_data = np.append(n1_fitting_data,[loading_curve[data_point]],axis=0)\n",
    "    data_point += 1"
   ]
  },
  {
   "cell_type": "code",
   "execution_count": 13,
   "metadata": {},
   "outputs": [
    {
     "data": {
      "text/plain": [
       "array([[ 0.        , -0.00119277]])"
      ]
     },
     "execution_count": 13,
     "metadata": {},
     "output_type": "execute_result"
    }
   ],
   "source": [
    "np.array([loading_curve[0]])"
   ]
  },
  {
   "cell_type": "code",
   "execution_count": 14,
   "metadata": {},
   "outputs": [],
   "source": [
    "data_point = 1\n",
    "n2_fitting_data = np.array([loading_curve[0]])\n",
    "while loading_curve[data_point,0] <= t2:\n",
    "    n2_fitting_data = np.append(n2_fitting_data,[loading_curve[data_point]],axis=0)\n",
    "    data_point += 1"
   ]
  },
  {
   "cell_type": "markdown",
   "metadata": {},
   "source": [
    "Os ajustes são feitos com facilidade utilizando a função ```optimize.curve``` do SciPy."
   ]
  },
  {
   "cell_type": "code",
   "execution_count": 15,
   "metadata": {},
   "outputs": [
    {
     "name": "stdout",
     "output_type": "stream",
     "text": [
      "[0.18495676] [[2.0500297e-06]]\n"
     ]
    },
    {
     "data": {
      "image/png": "[encoded data removed]",
      "text/plain": [
       "<Figure size 432x288 with 1 Axes>"
      ]
     },
     "metadata": {
      "needs_background": "light"
     },
     "output_type": "display_data"
    }
   ],
   "source": [
    "n1params, n1paramscov = optimize.curve_fit(n1, n1_fitting_data[:,0], n1_fitting_data[:,1])\n",
    "plt.scatter(n1_fitting_data[:,0], n1_fitting_data[:,1])\n",
    "plt.plot(n1_fitting_data[:,0],n1(n1_fitting_data[:,0],n1params[0]),c='red')\n",
    "print(n1params,n1paramscov)"
   ]
  },
  {
   "cell_type": "markdown",
   "metadata": {},
   "source": [
    "|Parâmetro | Valores reais | Valores ajustados |\n",
    "|:---:|:---:|:---:|\n",
    "| $L$ | 0.08 | 0.07427571 |"
   ]
  },
  {
   "cell_type": "code",
   "execution_count": 16,
   "metadata": {},
   "outputs": [],
   "source": [
    "fit1L = n1params[0]"
   ]
  },
  {
   "cell_type": "markdown",
   "metadata": {},
   "source": [
    "Utilizamos este valor de L para determinar gamma com o fitting de n2."
   ]
  },
  {
   "cell_type": "code",
   "execution_count": 17,
   "metadata": {},
   "outputs": [
    {
     "name": "stdout",
     "output_type": "stream",
     "text": [
      "[0.18495676] [0.45342609]\n"
     ]
    },
    {
     "data": {
      "image/png": "[encoded data removed]",
      "text/plain": [
       "<Figure size 432x288 with 1 Axes>"
      ]
     },
     "metadata": {
      "needs_background": "light"
     },
     "output_type": "display_data"
    }
   ],
   "source": [
    "L_n2 = lambda t, g: n2(t, fit1L, g)\n",
    "n2params, n2paramscov = optimize.curve_fit(L_n2, n2_fitting_data[:,0], n2_fitting_data[:,1])\n",
    "plt.scatter(n2_fitting_data[:,0], n2_fitting_data[:,1],alpha=0.3)\n",
    "plt.plot(n2_fitting_data[:,0],n2(n2_fitting_data[:,0],fit1L,n2params[0]),c='red')\n",
    "print(n1params,n2params)"
   ]
  },
  {
   "cell_type": "markdown",
   "metadata": {},
   "source": [
    "|Parâmetro | Valores reais | Valores ajustados |\n",
    "|:---:|:---:|:---:|\n",
    "| $L$ | 0.08 | 0.07427571 |\n",
    "| $\\gamma$ | 0.54 | 0.30022631|"
   ]
  },
  {
   "cell_type": "code",
   "execution_count": 18,
   "metadata": {},
   "outputs": [],
   "source": [
    "first_optmization_results = [n1params[0],n2params[0]]"
   ]
  },
  {
   "cell_type": "markdown",
   "metadata": {},
   "source": [
    "Os valores encontrados estão bem próximos dos reais, mas ainda apresentam diferenças consideráveis, em particular o de gamma, que carrega também o erro do L já fixado. Entretanto, devemos lembrar que esses valores foram obtidos sem oferecer qualquer tipo de chute inicial ao ```curve_fit```. Naturalmente, poderíamos ao menos lhe oferecer a ordem de grandeza esperada. Mas, imaginando um caso em que queremos restringir a otimização ao mínimo, podemos usar esses valores ajustados individualmente como chute inicial para uma otimização simultânea que deve fazer uma aproximação final."
   ]
  },
  {
   "cell_type": "code",
   "execution_count": 19,
   "metadata": {},
   "outputs": [
    {
     "data": {
      "text/plain": [
       "array([0.19965352, 0.71195271])"
      ]
     },
     "execution_count": 19,
     "metadata": {},
     "output_type": "execute_result"
    },
    {
     "data": {
      "image/png": "[encoded data removed]",
      "text/plain": [
       "<Figure size 432x288 with 1 Axes>"
      ]
     },
     "metadata": {
      "needs_background": "light"
     },
     "output_type": "display_data"
    }
   ],
   "source": [
    "fit2Lg, fit2Lg_cov = optimize.curve_fit(n2, n2_fitting_data[:,0], n2_fitting_data[:,1],p0=first_optmization_results)\n",
    "plt.scatter(n2_fitting_data[:,0], n2_fitting_data[:,1],alpha=0.3)\n",
    "plt.plot(n2_fitting_data[:,0],n2(n2_fitting_data[:,0],fit1L,n2params[0]),c='red')\n",
    "fit2Lg"
   ]
  },
  {
   "cell_type": "markdown",
   "metadata": {},
   "source": [
    "| Valores reais | Valores ajustados |\n",
    "|---|---|\n",
    "| 0.08 | 0.0792766 |\n",
    "| 0.54 | 0.51442491 |"
   ]
  },
  {
   "cell_type": "markdown",
   "metadata": {},
   "source": [
    "Como esperados, obtemos uma medida ainda melhor. Táticas diferentes podem continuar a serem testadas em busca de maior precisão, mas este processo é suficiente por hora."
   ]
  },
  {
   "cell_type": "markdown",
   "metadata": {},
   "source": [
    "Tratando do caso homonuclear, o único parâmetro que resta a ser determinado é $\\beta$. Para isso, fazemos um ajuste com a solução completa, e podemos ainda repetir a estratégia de fazer um ajuste coletivo após o ajuste individual."
   ]
  },
  {
   "cell_type": "code",
   "execution_count": 20,
   "metadata": {},
   "outputs": [],
   "source": [
    "def n3(t,L,g,beta):\n",
    "    w=0.096\n",
    "    a=g\n",
    "    b=beta\n",
    "    D = np.sqrt(a**2 + 4*L*b)\n",
    "    return D/(2*b)*np.tanh(D*t/2 + np.arctanh(a/D)) - a/(2*b)"
   ]
  },
  {
   "cell_type": "markdown",
   "metadata": {},
   "source": [
    "A solução completa $n_3$ exige um quarto parâmetro $w$. $w$ é a cintura gaussiana, uma característica geométrica da armadilha, que é medida diretamente. Como medida experimental, ela naturalmente inclui seu próprio erro, mas como não estamos simulando aqui o perfil de densidade do gás frio de onde se origina essa medida, iremos simplesmente utilizar o valor exato que entro na geração dos pontos."
   ]
  },
  {
   "cell_type": "code",
   "execution_count": 21,
   "metadata": {},
   "outputs": [],
   "source": [
    "n3_fitting_data = loading_curve[:]"
   ]
  },
  {
   "cell_type": "code",
   "execution_count": 22,
   "metadata": {},
   "outputs": [
    {
     "name": "stdout",
     "output_type": "stream",
     "text": [
      "[0.19965352 0.71195271] [0.10021625]\n"
     ]
    },
    {
     "data": {
      "image/png": "[encoded data removed]",
      "text/plain": [
       "<Figure size 432x288 with 1 Axes>"
      ]
     },
     "metadata": {
      "needs_background": "light"
     },
     "output_type": "display_data"
    }
   ],
   "source": [
    "Lg_n3 = lambda t, b: n3(t, fit2Lg[0], fit2Lg[1], b)\n",
    "n3params, n3paramscov = optimize.curve_fit(Lg_n3, n3_fitting_data[:,0], n3_fitting_data[:,1],p0=0.01)\n",
    "plt.scatter(n3_fitting_data[:,0], n3_fitting_data[:,1],alpha=0.1)\n",
    "plt.plot(n3_fitting_data[:,0],n3(n3_fitting_data[:,0],fit2Lg[0],fit2Lg[1],n3params),c='red')\n",
    "print(fit2Lg,n3params)"
   ]
  },
  {
   "cell_type": "code",
   "execution_count": 23,
   "metadata": {},
   "outputs": [
    {
     "data": {
      "text/plain": [
       "[0.7119527062643086, 0.10021625482979564]"
      ]
     },
     "execution_count": 23,
     "metadata": {},
     "output_type": "execute_result"
    }
   ],
   "source": [
    "second_optimization_results = [fit2Lg[1],n3params[0]]\n",
    "second_optimization_results"
   ]
  },
  {
   "cell_type": "code",
   "execution_count": 24,
   "metadata": {},
   "outputs": [
    {
     "name": "stdout",
     "output_type": "stream",
     "text": [
      "[0.71774691 0.07752437]\n"
     ]
    },
    {
     "data": {
      "image/png": "[encoded data removed]",
      "text/plain": [
       "<Figure size 432x288 with 1 Axes>"
      ]
     },
     "metadata": {
      "needs_background": "light"
     },
     "output_type": "display_data"
    }
   ],
   "source": [
    "L_n3 = lambda t, g, b: n3(t, fit2Lg[0], g, b)\n",
    "fit3Lgbeta, fit3Lgbeta_cov = optimize.curve_fit(L_n3, n3_fitting_data[:,0], n3_fitting_data[:,1],p0=second_optimization_results)\n",
    "plt.scatter(n3_fitting_data[:,0], n3_fitting_data[:,1],alpha=0.5,s=10)\n",
    "plt.plot(n3_fitting_data[:,0],n3(n3_fitting_data[:,0],fit2Lg[0],fit3Lgbeta[0],fit3Lgbeta[1]),c='red')\n",
    "print(fit3Lgbeta)"
   ]
  },
  {
   "cell_type": "code",
   "execution_count": 25,
   "metadata": {},
   "outputs": [],
   "source": [
    "third_optimization_results = [fit3Lgbeta[1]]"
   ]
  },
  {
   "cell_type": "code",
   "execution_count": 26,
   "metadata": {},
   "outputs": [
    {
     "name": "stdout",
     "output_type": "stream",
     "text": [
      "[0.07752437]\n"
     ]
    },
    {
     "data": {
      "image/png": "[encoded data removed]",
      "text/plain": [
       "<Figure size 432x288 with 1 Axes>"
      ]
     },
     "metadata": {
      "needs_background": "light"
     },
     "output_type": "display_data"
    }
   ],
   "source": [
    "Lg_n3 = lambda t, b: n3(t, fit2Lg[0], fit3Lgbeta[0], b)\n",
    "n3params, n3paramscov = optimize.curve_fit(Lg_n3, n3_fitting_data[:,0], n3_fitting_data[:,1],p0=third_optimization_results)\n",
    "plt.scatter(n3_fitting_data[:,0], n3_fitting_data[:,1],alpha=0.1)\n",
    "plt.plot(n3_fitting_data[:,0],n3(n3_fitting_data[:,0],fit2Lg[0],fit2Lg[1],n3params),c='red')\n",
    "print(n3params)"
   ]
  },
  {
   "cell_type": "markdown",
   "metadata": {},
   "source": [
    "#### Manipulação do arquivo .ini"
   ]
  },
  {
   "cell_type": "markdown",
   "metadata": {},
   "source": [
    "Agora vamos utilizar o pacote ```ConfigParser``` para modificar o arquivo ```params.ini```, que contém as configurações da execução do experimento para o software de controle. O pacote utilizado torna essa interação tão simples quanto lidar com um dicionário normal do Python."
   ]
  },
  {
   "cell_type": "markdown",
   "metadata": {},
   "source": [
    "Primeiro criamos uma instância da classe ```ConfigParser```, que faz a interação com o arquivo."
   ]
  },
  {
   "cell_type": "code",
   "execution_count": 27,
   "metadata": {},
   "outputs": [],
   "source": [
    "config = configparser.ConfigParser()"
   ]
  },
  {
   "cell_type": "code",
   "execution_count": 28,
   "metadata": {},
   "outputs": [
    {
     "data": {
      "text/plain": [
       "['params_example.ini']"
      ]
     },
     "execution_count": 28,
     "metadata": {},
     "output_type": "execute_result"
    }
   ],
   "source": [
    "config.read('params_example.ini')"
   ]
  },
  {
   "cell_type": "markdown",
   "metadata": {},
   "source": [
    "Com o arquivo aberto, podemos ver as seções que ele contém."
   ]
  },
  {
   "cell_type": "code",
   "execution_count": 29,
   "metadata": {},
   "outputs": [
    {
     "data": {
      "text/plain": [
       "['MOT',\n",
       " 'SEQ',\n",
       " 'RAMPSAFTERMOT',\n",
       " 'CNC_BEC1',\n",
       " 'MOLASSES',\n",
       " 'OPTICALPUMPING',\n",
       " 'OPTICALPUMPING_F1',\n",
       " 'CATCH',\n",
       " 'QUADRUPOLERAMP',\n",
       " 'QUADRUPOLE_RELAX',\n",
       " 'OT_EVAPORATION_F2',\n",
       " 'OT_EVAPORATION_F1',\n",
       " 'QUIC_EVAPORATION',\n",
       " 'EXCITATION',\n",
       " 'EXCITATION2',\n",
       " 'EXCITATION_SUMSINES',\n",
       " 'BIAS_INVERSION',\n",
       " 'TOF',\n",
       " 'IMAGING',\n",
       " 'IMAGING_sting',\n",
       " 'MOTRECAPTURE',\n",
       " 'DPPulse',\n",
       " 'QUICHold',\n",
       " 'STERNGERLACH',\n",
       " 'TASK',\n",
       " 'BOOL',\n",
       " 'MEASUREMENTSRESULTS']"
      ]
     },
     "execution_count": 29,
     "metadata": {},
     "output_type": "execute_result"
    }
   ],
   "source": [
    "config.sections()"
   ]
  },
  {
   "cell_type": "markdown",
   "metadata": {},
   "source": [
    "Ou visualizar os parâmetros em alguma seção em particular."
   ]
  },
  {
   "cell_type": "code",
   "execution_count": 30,
   "metadata": {},
   "outputs": [
    {
     "name": "stdout",
     "output_type": "stream",
     "text": [
      "goal\n",
      "coilscurrent\n",
      "coolingfrequency\n",
      "zcompensation\n",
      "pushfrequency\n",
      "delayleds\n",
      "mottof\n"
     ]
    }
   ],
   "source": [
    "for key in config['MOT']:\n",
    "    print(key)"
   ]
  },
  {
   "cell_type": "markdown",
   "metadata": {},
   "source": [
    "Ou ver o valor de cada parâmetro."
   ]
  },
  {
   "cell_type": "code",
   "execution_count": 31,
   "metadata": {},
   "outputs": [
    {
     "name": "stdout",
     "output_type": "stream",
     "text": [
      "goal = 11.0\n",
      "coilscurrent = 0.09\n",
      "coolingfrequency = 1.15\n",
      "zcompensation = 0.4\n",
      "pushfrequency = 2.6\n",
      "delayleds = 12.0\n",
      "mottof = 1000.0\n"
     ]
    }
   ],
   "source": [
    "for key in config['MOT']:\n",
    "    print(key,'=',config['MOT'][key])"
   ]
  },
  {
   "cell_type": "markdown",
   "metadata": {},
   "source": [
    "A edição de um valor é feita simplesmente por"
   ]
  },
  {
   "cell_type": "code",
   "execution_count": 32,
   "metadata": {},
   "outputs": [
    {
     "name": "stdout",
     "output_type": "stream",
     "text": [
      "goal = 10.0\n",
      "coilscurrent = 0.09\n",
      "coolingfrequency = 1.15\n",
      "zcompensation = 0.4\n",
      "pushfrequency = 2.6\n",
      "delayleds = 12.0\n",
      "mottof = 1000.0\n"
     ]
    }
   ],
   "source": [
    "config['MOT']['goal'] = '10.0'\n",
    "for key in config['MOT']:\n",
    "    print(key,'=',config['MOT'][key])"
   ]
  },
  {
   "cell_type": "markdown",
   "metadata": {},
   "source": [
    "O mesmo é feito para adicionar um novo parâmetro."
   ]
  },
  {
   "cell_type": "code",
   "execution_count": 33,
   "metadata": {},
   "outputs": [
    {
     "name": "stdout",
     "output_type": "stream",
     "text": [
      "goal = 10.0\n",
      "coilscurrent = 0.09\n",
      "coolingfrequency = 1.15\n",
      "zcompensation = 0.4\n",
      "pushfrequency = 2.6\n",
      "delayleds = 12.0\n",
      "mottof = 1000.0\n",
      "goal2 = 11.0\n"
     ]
    }
   ],
   "source": [
    "config['MOT']['goal2'] = '11.0'\n",
    "for key in config['MOT']:\n",
    "    print(key,'=',config['MOT'][key])"
   ]
  },
  {
   "cell_type": "markdown",
   "metadata": {},
   "source": [
    "E para remover um valor"
   ]
  },
  {
   "cell_type": "code",
   "execution_count": 34,
   "metadata": {},
   "outputs": [
    {
     "name": "stdout",
     "output_type": "stream",
     "text": [
      "goal = 10.0\n",
      "coilscurrent = 0.09\n",
      "coolingfrequency = 1.15\n",
      "zcompensation = 0.4\n",
      "pushfrequency = 2.6\n",
      "delayleds = 12.0\n",
      "mottof = 1000.0\n"
     ]
    }
   ],
   "source": [
    "config.remove_option('MOT','goal2')\n",
    "for key in config['MOT']:\n",
    "    print(key,'=',config['MOT'][key])"
   ]
  },
  {
   "cell_type": "markdown",
   "metadata": {},
   "source": [
    "A estrutura simples do pacote torna sua implementação simples e rápida ao lado do MLOOP, como na próxima seção."
   ]
  },
  {
   "cell_type": "markdown",
   "metadata": {},
   "source": [
    "#### Leitura da curva a partir de arquivo .txt"
   ]
  },
  {
   "cell_type": "markdown",
   "metadata": {},
   "source": [
    "Primeiro abrimos o rquivo de texto em modo de leitura."
   ]
  },
  {
   "cell_type": "code",
   "execution_count": 35,
   "metadata": {},
   "outputs": [
    {
     "data": {
      "text/plain": [
       "'MOT1pd.txt'"
      ]
     },
     "execution_count": 35,
     "metadata": {},
     "output_type": "execute_result"
    }
   ],
   "source": [
    "shutil.copyfile('MOT1pdbak.txt', 'MOT1pd.txt')"
   ]
  },
  {
   "cell_type": "code",
   "execution_count": 36,
   "metadata": {},
   "outputs": [],
   "source": [
    "curve = open('MOT1pd.txt','r')"
   ]
  },
  {
   "cell_type": "markdown",
   "metadata": {},
   "source": [
    "A primeira linha do arquivo simplesmente nomeia as colunas. Criamos um array cujos elementos são as linhas (ainda strings) do .txt, excluindo a primeira."
   ]
  },
  {
   "cell_type": "code",
   "execution_count": 37,
   "metadata": {},
   "outputs": [
    {
     "name": "stdout",
     "output_type": "stream",
     "text": [
      "['100\\t0.145575\\n', '105\\t0.152602\\n', '110\\t0.16195\\n', '115\\t0.187029\\n', '120\\t0.183161\\n']\n"
     ]
    }
   ],
   "source": [
    "curvelines = curve.readlines()[1:]\n",
    "print(curvelines[:5])"
   ]
  },
  {
   "cell_type": "markdown",
   "metadata": {},
   "source": [
    "Inicializamos uma matriz (np.array) vazia para receber a devidamente formatada (isto é, num formato diretamente utilizável para cálculos)."
   ]
  },
  {
   "cell_type": "code",
   "execution_count": 38,
   "metadata": {},
   "outputs": [],
   "source": [
    "l_curve = np.empty([0,2])"
   ]
  },
  {
   "cell_type": "markdown",
   "metadata": {},
   "source": [
    "Agora preenchemos essa matriz com as linhas do arquivos, reorgarnizadas como arrays de números."
   ]
  },
  {
   "cell_type": "code",
   "execution_count": 39,
   "metadata": {},
   "outputs": [],
   "source": [
    "for line in curvelines:\n",
    "    formatted_line = np.array([np.float64([line.split('\\t')[0],line.split('\\t')[1][:-2]])])\n",
    "    l_curve = np.concatenate((l_curve,formatted_line))"
   ]
  },
  {
   "cell_type": "markdown",
   "metadata": {},
   "source": [
    "Por último, subtraímos da curva seu deslocamento a partir do zero. Naturalmente, a população inicial deve ser $0$, de modo que podemos razoávelmente exigir que $N(0)=0$, e considerar qualquer desvio como ruído. Entretanto, notamos que neste conjunto de dados o ponto $N(0)$ tem um valor em torno de $0.01$ maior que os primeiros pontos após ele. Seria simples aqui descartar esse único ponto dentre centenas e seguir a análise. Entretanto, queremos um código que seja capaz de lidar com *qualquer* conjunto de dados, e não podemos prever quantos pontos iniciais (talvez nenhum) devem ser excluidos. Seria simples inserir uma função que fizesse esssa determinação de modo adequado, mas não o faremos ainda nesta primeira versão do código. Por hora, redefinimos o $N=0$ a partir do menor valor de $N$ na lista, quer seja o primeiro ou não."
   ]
  },
  {
   "cell_type": "code",
   "execution_count": 40,
   "metadata": {},
   "outputs": [],
   "source": [
    "l_curve -= np.array([[100*np.float64(15.03/1320),min(l_curve[:,1])]]*len(l_curve))"
   ]
  },
  {
   "cell_type": "markdown",
   "metadata": {},
   "source": [
    "#### Visualização"
   ]
  },
  {
   "cell_type": "markdown",
   "metadata": {},
   "source": [
    "As curvas de carga são recebidas como pontos (número da medição,tensão). \"Número da medição\" é apenas um número designado a cada ponto pelo software do laboratório em intervalos regulares. A conversão ao instante real da medida a partir do primeiro ponto é feita simplesmente registrando-se o tempo total de carregamento e dividindo pelo maior número de medição (esse tempo deverá ser passado automaticamente de alguma forma ao otimizador). Na curva de exemplo temos \n",
    "\n",
    "$$15.03/1320\\approx 0.011$$\n",
    "\n",
    "que nos diz quanto tempo se passa entre cada medição e é nosso fator de escala temporal, ```self._timescale```. Isso é tudo que deve ser feito antes do ajuste. Para a visualização, é mais instrutivo que a exibição do eixo vertical seja em número de átomos aprisionados, e não a tensão no fotodetector. Nesse caso, o fator de conversão ```self._popscale``` foi determinado na calibração do equipamento como\n",
    "\n",
    "$$1.023\\cdot10^8$$\n",
    "\n",
    "e pode ser entendido com base na física do espalhamento por um átomo. O princípio do resfriamento está na troca de momento entre átomos e fótons: um átomo absorve um fóton, e depois de um tempo característico $\\tau$ (tempo de vida do estado excitado), retorna ao estado fundamental por emissão espontânea de um fóton com mesma energia. Como a absorção sempre ocorre por fótons vindos da mesma direção e a emissão não tem direção preferencial, o efeito médio no tempo é de dar ao átomo momento na direção do laser. A ausência de direção preferencial de emissão implica que, em média no tempo, há uma radiação isotrópica de energia pelo átomo. Se cada fóton tem energia $h\\nu$ e um fóton é emitido a cada intervalo $\\tau$, a potência de radiação deverá ser \n",
    "\n",
    "$$P=\\frac{h\\nu}{\\tau}$$\n",
    "\n",
    "A potência de radiação por ângulo sólido é \n",
    "\n",
    "$$p=\\frac{h\\nu}{4\\pi\\tau}$$\n",
    "\n",
    "Para determinar a potência recebida pelo fotodetector, basta determinar o ângulo sólido $\\Omega_f$ coberto por este com base na geometria da armadilha. Adicionalmente, podemos considerar a transmitância $T_v$ do painel de vidro da armadilha que a luz cruza antes de chegar ao fotodetector. Nesse caso, a potência recebida pelo fotodetector para um átomo é \n",
    "\n",
    "$$P_f = \\frac{h\\Omega_f T_v\\nu}{4\\pi\\tau}$$\n",
    "\n",
    "Para uma população de N átomos, a potêncial total é \n",
    "\n",
    "$$P_f = \\frac{hN\\Omega_f T_v\\nu}{4\\pi\\tau}$$\n",
    "\n",
    "Cuja relação com a tensão gerada depende do fotodetector em si. Dessa forma é possível encontrar a relação entre a tensão medida e a quantidade de átomos na armadilha."
   ]
  },
  {
   "cell_type": "markdown",
   "metadata": {},
   "source": [
    "#### Implementação no M-LOOP"
   ]
  },
  {
   "cell_type": "markdown",
   "metadata": {},
   "source": [
    "Todas as otimizações feitas agora devem ser feitas internamente pelo M-LOOP a partir dos pontos da curva de carga real medidos. O que se encontra abaixo é um código de exemplo, baseado naqueles já feitos anteriormente."
   ]
  },
  {
   "cell_type": "code",
   "execution_count": 41,
   "metadata": {},
   "outputs": [],
   "source": [
    "class MOTinterface(mli.Interface):\n",
    "    \"\"\"M-LOOP interface for a Python-controlled\n",
    "    magneto-optical trap.\n",
    "    \n",
    "    Parameters\n",
    "    ----------\n",
    "\n",
    "    \"\"\"\n",
    "    \n",
    "    def __init__(self,simultaneous_fitting):\n",
    "        super(MOTinterface,self).__init__()\n",
    "        self.loading_curve = np.empty([0,2])\n",
    "        self._n1_trust_radius = np.float64(4.0)\n",
    "        self._n2_trust_radius = np.float64(6.0)\n",
    "        self._L = np.float64(1)\n",
    "        self._g = np.float64(1)\n",
    "        self._b = np.float64(1)\n",
    "        self._cov_matrix = np.empty(1)\n",
    "        self._L_cov = np.float64(1)\n",
    "        self._g_cov = np.float64(1)\n",
    "        self._b_cov = np.float64(1)\n",
    "        self._trash_bin = 0\n",
    "        self._timescale = np.float64(15.03/1320)\n",
    "        self._ini_path = 'params.ini'\n",
    "        self._data_path = 'MOT1pd.txt'\n",
    "        self._settings = configparser.ConfigParser()\n",
    "        self._simultaneous_fitting = simultaneous_fitting\n",
    "        \n",
    "    def n1(self,t,L):\n",
    "        return L*t\n",
    "\n",
    "    def n2(self,t,L,g):\n",
    "        return (L/g)*(1-np.exp(-g*t))\n",
    "    \n",
    "    def n3(self,t,L,g,b):\n",
    "        a = g\n",
    "        D = np.sqrt(a**2 + 4*L*b)\n",
    "        return D/(2*b)*np.tanh(D*t/2 + np.arctanh(a/D)) - a/(2*b)\n",
    "    \n",
    "    def _n1_fitting_data(self):\n",
    "        data_point = 1\n",
    "        n1_fitting_data = np.array([self.loading_curve[0]])\n",
    "        while self.loading_curve[data_point,0] <= self._n1_trust_radius:\n",
    "            n1_fitting_data = np.append(n1_fitting_data,[self.loading_curve[data_point]],axis=0)\n",
    "            data_point += 1\n",
    "        return n1_fitting_data\n",
    "    \n",
    "    def _n2_fitting_data(self):\n",
    "        data_point = 1\n",
    "        n2_fitting_data = np.array([self.loading_curve[0]])\n",
    "        while self.loading_curve[data_point,0] <= self._n2_trust_radius:\n",
    "            n2_fitting_data = np.append(n2_fitting_data,[self.loading_curve[data_point]],axis=0)\n",
    "            data_point += 1\n",
    "        return n2_fitting_data\n",
    "    \n",
    "    def _n3_fitting_data(self):\n",
    "        return self.loading_curve\n",
    "\n",
    "    def _n1_fitting(self):\n",
    "        n1_fitting_data = self._n1_fitting_data()\n",
    "        fitL, fitL_cov = optimize.curve_fit(self.n1, n1_fitting_data[:,0], n1_fitting_data[:,1])\n",
    "        return fitL, fitL_cov\n",
    "        \n",
    "    def _n2_fitting(self,L=None):\n",
    "        n2_fitting_data = self._n2_fitting_data()\n",
    "        \n",
    "        if L == None:\n",
    "            n2 = lambda t, g: self.n2(t,self._L,g)\n",
    "            fitLg, fitLg_cov = optimize.curve_fit(n2, n2_fitting_data[:,0], n2_fitting_data[:,1])\n",
    "        \n",
    "        else:\n",
    "            fitLg, fitLg_cov = optimize.curve_fit(self.n2, n2_fitting_data[:,0], n2_fitting_data[:,1],p0=[self._L,self._g])\n",
    "        \n",
    "        return fitLg, fitLg_cov        \n",
    "        \n",
    "        \n",
    "    def _n3_fitting(self,L=None,g=None):\n",
    "        n3_fitting_data = self._n3_fitting_data()\n",
    "            \n",
    "        if g == None:\n",
    "            n3 = lambda t, b: self.n3(t,self._L,self._g,b)\n",
    "            fitLgB, fitLgB_cov = optimize.curve_fit(n3, n3_fitting_data[:,0], n3_fitting_data[:,1])\n",
    "            \n",
    "        else:\n",
    "            n3 = lambda t, g, b: self.n3(t,self._L,g,b)\n",
    "            fitLgB, fitLgB_cov = optimize.curve_fit(n3, n3_fitting_data[:,0], n3_fitting_data[:,1],p0=[self._g,self._b])\n",
    "        \n",
    "        return fitLgB, fitLgB_cov        \n",
    "    \n",
    "        \n",
    "    def fitting_routine(self):\n",
    "        \"\"\"Executes a fitting routine over the three\n",
    "        available solutions n1, n2 and n3. Fits each\n",
    "        parameter individually, with collective fitting\n",
    "        in between, using the latest fitted parameters \n",
    "        as initial guesses.\n",
    "        \n",
    "        Parameters\n",
    "        ----------\n",
    "        \n",
    "        Returns\n",
    "        -------\n",
    "        \"\"\"\n",
    "        \n",
    "        [self._L], self._cov_matrix = self._n1_fitting()\n",
    "        self._L_cov = np.sqrt(np.diag(self._cov_matrix))\n",
    "        print(self._L,self._g,self._b)\n",
    "        \n",
    "        [self._g], self._cov_matrix = self._n2_fitting()\n",
    "        self._g_cov = np.sqrt(np.diag(self._cov_matrix))\n",
    "        print(self._L,self._g,self._b)\n",
    "        \n",
    "        #See note below for why this is disabled\n",
    "        #if self._simultaneous_fitting:\n",
    "        #    [self._L,self._g], self._cov_matrix = self._n2_fitting(L=self._L)\n",
    "        #    [self._L_cov,self._g_cov] = np.sqrt(np.diag(self._cov_matrix))\n",
    "        #    print(self._L,self._g,self._b)\n",
    "            \n",
    "        [self._b], self._cov_matrix = self._n3_fitting()\n",
    "        [self._b_cov] = np.sqrt(np.diag(self._cov_matrix))\n",
    "        print(self._L,self._g,self._b)\n",
    "        \n",
    "        #This fits g and b simultaneously; Whenever it is active alongside\n",
    "        #simultaneous fitting of L and g, it seems to cause b to be severely\n",
    "        #underfitted, actually dropping up to four orders, causing the\n",
    "        #standard deviation to actually become greater than the parameter\n",
    "        #estimate itself. I've opted to leave this on enable and disable \n",
    "        #simultaneous optimization of L and g since L should be already well\n",
    "        #fitted from the linear regime, and fitting L and g simultaneously\n",
    "        #seems to cause b underfitting even when this one is disabled\n",
    "        if self._simultaneous_fitting:\n",
    "            [self._g,self._b], self._cov_matrix = self._n3_fitting(g=self._g)\n",
    "            [self._g_cov,self._b_cov] = np.sqrt(np.diag(self._cov_matrix))\n",
    "        print(self._L,self._g,self._b)\n",
    "        \n",
    "        self.fitting_plot()\n",
    "        \n",
    "        print(self._L,self._L_cov)\n",
    "        print(self._g,self._g_cov)\n",
    "        print(self._b,self._b_cov)\n",
    "        \n",
    "        return None\n",
    "    \n",
    "    def fitting_plot(self):\n",
    "        plt.scatter(self.loading_curve[:,0],self.loading_curve[:,1],alpha=0.5)\n",
    "        plt.plot(self.loading_curve[:,0], self.n3(self.loading_curve[:,0], self._L, self._g, self._b), c='red')\n",
    "        plt.show()\n",
    "            \n",
    "        return None\n",
    "        \n",
    "        \n",
    "    def get_next_cost_dict(self,params_dict):\n",
    "        \"\"\"Receives the latest set of optimized parameters\n",
    "        from a dictionary, runs the experiment and updates\n",
    "        a cost dictionary with the resulting cost, \n",
    "        uncertainty, if available, and with a \"bad\" label,\n",
    "        if necessary.\n",
    "        \n",
    "        Parameters\n",
    "        ----------\n",
    "        params_dict : dictionary\n",
    "            Holds as an a element a list of the best\n",
    "            parameters from the most recent update of the\n",
    "            internal model.\n",
    "        \n",
    "        Returns\n",
    "        -------\n",
    "        cost_dict : dictionary\n",
    "            Holds elements for the cost and uncertainty\n",
    "            values, plus the 'bad' flag. For bad runs, only\n",
    "            the flag need be passed. Otherwise, the\n",
    "            uncertainty remains optional.\n",
    "        \"\"\"\n",
    "        params = params_dict['params']\n",
    "        \n",
    "        coolingfrequency = str(params[0])\n",
    "        zcompensation = str(params[1])\n",
    "        pushfrequency = str(params[2])\n",
    "        \n",
    "        self._settings.read(self._ini_path)\n",
    "        \n",
    "        self._settings['MOT']['coolingfrequency'] = coolingfrequency\n",
    "        self._settings['MOT']['zcompensation'] = zcompensation\n",
    "        self._settings['MOT']['pushfrequency'] = pushfrequency\n",
    "        \n",
    "        #at this point, the lab software has to somehow know that the\n",
    "        #params.ini file has been updated and run the experiment. \n",
    "        #If there's anything that needs to be done on the M-LOOP side\n",
    "        #for this to happen, this is where that would go.\n",
    "        \n",
    "        time.sleep(15)\n",
    "        \n",
    "        while not os.path.exists(self._data_path):\n",
    "            pass\n",
    "        \n",
    "        curve = open(self._data_path,'r')\n",
    "        curvelines = curve.readlines()[1:]\n",
    "        curve.close()\n",
    "        os.remove(self._data_path)\n",
    "        \n",
    "        for line in curvelines:\n",
    "            formatted_line = np.array([np.float64([line.split('\\t')[0],line.split('\\t')[1][:-2]])])\n",
    "            self.loading_curve = np.concatenate((self.loading_curve,formatted_line*[self._timescale,1]))\n",
    "        self.loading_curve -= np.array([[100*self._timescale,min(self.loading_curve[:,1])]]*len(self.loading_curve))\n",
    "\n",
    "        self.fitting_routine()\n",
    "        \n",
    "        cost = self._L\n",
    "        uncer = 1e-3\n",
    "        bad = False\n",
    "    \n",
    "        cost_dict = {'cost' : cost, 'uncer' : uncer, 'bad' : bad}\n",
    "\n",
    "        return cost_dict "
   ]
  },
  {
   "cell_type": "markdown",
   "metadata": {},
   "source": [
    "Algumas observações devem ser feitas em relação ao código acima. Embora o grosso do trabalho tenha sido feito, ele ainda não é o código final. Certos detalhes dependem de como funcionará o lado do LabView:\n",
    "* O nome do arquivo .txt que contém a curva está \"hard-coded\" script. Uma das necessidades será a de que o LabView salve automaticamente esse curva para que o programa possa lê-la. No modelo atual, esse arquivo é deletado após a leitura, e sempre tem o mesmo nome. Se o LabView salvar a curva de cada experimento separadamente, com um arquivo identificado pelo número de execução (run number), seria simples adicionar um contador ao código para que o M-LOOP pudesse ler o arquivo da execução correta a cada iteração. Estes arquivos podem ficar em qualquer pasta, é claro. Se estas pastas forem identificadas pela data/horário da realização do experimento, podemos utilizar a biblioteca ```datetime``` para obter a data e hora do sistema, a partir das quais podemos identificar corretamente a pasta onde as curvas de carga em questão estão armazenadas.\n",
    "* O código também deve ser capaz de aguardar a execução do experimento antes de procurar a nova curva de carga. No momento, essa espera está implementada com pouco refinamento: há um período de espera de $15\\,s$, que deve ser suficiente para qualquer curva, e então ocorre uma checagem da existência do arquivo antes do seu carregamento. A checagem ocorre de modo contínuo até que o arquivo apareça, caso ele já não esteja lá após os $15\\,s$; essa checagem contínua tende a ser muito ineficiente no consumo de recursos do sistema, de modo que ficam para investigação futura modos mais eficientes (computacionalmente e em tempo) de aguardar a finalização da carga do MOT."
   ]
  },
  {
   "cell_type": "markdown",
   "metadata": {},
   "source": [
    "#### Teste do código com uma curva real"
   ]
  },
  {
   "cell_type": "markdown",
   "metadata": {},
   "source": [
    "Fazemos abaixo a implementação padrão do controlador do M-LOOP com a interface construída na seção anterior. Uma descrição mais cuidadosa do funcionamento das componentes do M-LOOP está no arquivo ```GuiaMLOOP.ipynb```."
   ]
  },
  {
   "cell_type": "code",
   "execution_count": 42,
   "metadata": {},
   "outputs": [],
   "source": [
    "def main(simultaneous_fitting = True):\n",
    "    \"\"\"Creates an instance of the MOTinterface class, then\n",
    "    a controller with that interface and a series of \n",
    "    configurations (that can be found in the M-LOOP \n",
    "    documentation). Lastly, the optimize() method is called\n",
    "    to start the process.\"\"\"\n",
    "    interface = MOTinterface(simultaneous_fitting)\n",
    "    controller = mlc.create_controller(interface,\n",
    "                                       num_params = 3,\n",
    "                                       min_boundary = [1,0.1,2],\n",
    "                                       max_boundary = [2,1,3],\n",
    "                                       first_params = [1.15,0.4,2.6],\n",
    "                                       max_num_runs = 1,\n",
    "                                       cost_has_noise = True,\n",
    "                                       no_delay = False)\n",
    "    controller.optimize()\n",
    "    \n",
    "    return controller"
   ]
  },
  {
   "cell_type": "markdown",
   "metadata": {},
   "source": [
    "Note que os pontos utilizados aqui não incluem ainda erro."
   ]
  },
  {
   "cell_type": "code",
   "execution_count": 43,
   "metadata": {},
   "outputs": [
    {
     "data": {
      "text/plain": [
       "'MOT1pd.txt'"
      ]
     },
     "execution_count": 43,
     "metadata": {},
     "output_type": "execute_result"
    }
   ],
   "source": [
    "shutil.copyfile('MOT1pdbak.txt', 'MOT1pd.txt')"
   ]
  },
  {
   "cell_type": "code",
   "execution_count": 44,
   "metadata": {},
   "outputs": [
    {
     "name": "stdout",
     "output_type": "stream",
     "text": [
      "INFO     Optimization started.\n",
      "INFO     Run:1 (training)\n",
      "INFO     params [1.15 0.4  2.6 ]\n",
      "0.1228834939639932 1.0 1.0\n",
      "0.1228834939639932 0.038063137837280096 1.0\n",
      "0.1228834939639932 0.038063137837280096 0.033064024871355416\n",
      "0.1228834939639932 0.025775533816964714 0.04915594199086493\n"
     ]
    },
    {
     "name": "stderr",
     "output_type": "stream",
     "text": [
      "/home/lucasdsa/anaconda3/envs/MLOOPcopy/lib/python3.7/site-packages/ipykernel_launcher.py:37: RuntimeWarning:\n",
      "\n",
      "invalid value encountered in sqrt\n",
      "\n"
     ]
    },
    {
     "data": {
      "image/png": "[encoded data removed]",
      "text/plain": [
       "<Figure size 432x288 with 1 Axes>"
      ]
     },
     "metadata": {
      "needs_background": "light"
     },
     "output_type": "display_data"
    },
    {
     "name": "stdout",
     "output_type": "stream",
     "text": [
      "0.1228834939639932 [0.00118534]\n",
      "0.025775533816964714 0.0030871064104821913\n",
      "0.04915594199086493 0.004085817105282234\n",
      "INFO     cost 0.1228834939639932 +/- 0.001\n",
      "INFO     Controller finished. Closing down M-LOOP. Please wait a moment...\n",
      "INFO     Optimization ended because:-\n",
      "INFO     Maximum number of runs reached.\n",
      "INFO     Results:-\n",
      "INFO     Best parameters found:[1.15 0.4  2.6 ]\n",
      "INFO     Best cost returned:0.1228834939639932 +/- 0.001\n",
      "INFO     Best run number:1\n",
      "INFO     Predicted best parameters:[1.15 0.4  2.6 ]\n",
      "INFO     Predicted best cost:[0.12288349] +/- [0.00447214]\n",
      "INFO     M-LOOP Done.\n"
     ]
    },
    {
     "data": {
      "text/plain": [
       "<mloop.controllers.GaussianProcessController at 0x7f9eb1b157d0>"
      ]
     },
     "execution_count": 44,
     "metadata": {},
     "output_type": "execute_result"
    }
   ],
   "source": [
    "main()"
   ]
  },
  {
   "cell_type": "code",
   "execution_count": 113,
   "metadata": {},
   "outputs": [
    {
     "data": {
      "text/plain": [
       "'MOT1pd.txt'"
      ]
     },
     "execution_count": 113,
     "metadata": {},
     "output_type": "execute_result"
    }
   ],
   "source": [
    "shutil.copyfile('MOT1pdbak.txt', 'MOT1pd.txt')"
   ]
  },
  {
   "cell_type": "code",
   "execution_count": 114,
   "metadata": {},
   "outputs": [
    {
     "name": "stdout",
     "output_type": "stream",
     "text": [
      "INFO     Optimization started.\n",
      "INFO     Run:1 (training)\n",
      "INFO     params [1.15 0.4  2.6 ]\n",
      "0.1228834939639932 1.0 1.0\n",
      "0.1228834939639932 0.038063137837280096 1.0\n",
      "0.1228834939639932 0.038063137837280096 0.033064024871355416\n"
     ]
    },
    {
     "name": "stderr",
     "output_type": "stream",
     "text": [
      "/home/lucasdsa/anaconda3/envs/MLOOPcopy/lib/python3.7/site-packages/ipykernel_launcher.py:37: RuntimeWarning:\n",
      "\n",
      "invalid value encountered in sqrt\n",
      "\n"
     ]
    },
    {
     "data": {
      "image/png": "[encoded data removed]",
      "text/plain": [
       "<Figure size 432x288 with 1 Axes>"
      ]
     },
     "metadata": {
      "needs_background": "light"
     },
     "output_type": "display_data"
    },
    {
     "name": "stdout",
     "output_type": "stream",
     "text": [
      "0.1228834939639932 [0.00118534]\n",
      "0.038063137837280096 [0.00283336]\n",
      "0.033064024871355416 0.0006757594145611178\n",
      "INFO     cost 0.1228834939639932 +/- 0.001\n",
      "INFO     Controller finished. Closing down M-LOOP. Please wait a moment...\n",
      "INFO     Optimization ended because:-\n",
      "INFO     Maximum number of runs reached.\n",
      "INFO     Results:-\n",
      "INFO     Best parameters found:[1.15 0.4  2.6 ]\n",
      "INFO     Best cost returned:0.1228834939639932 +/- 0.001\n",
      "INFO     Best run number:1\n",
      "INFO     Predicted best parameters:[1.15 0.4  2.6 ]\n",
      "INFO     Predicted best cost:[0.12288349] +/- [0.00447214]\n",
      "INFO     M-LOOP Done.\n"
     ]
    },
    {
     "data": {
      "text/plain": [
       "<mloop.controllers.GaussianProcessController at 0x7fe3ef3420d0>"
      ]
     },
     "execution_count": 114,
     "metadata": {},
     "output_type": "execute_result"
    }
   ],
   "source": [
    "main(False)"
   ]
  },
  {
   "cell_type": "markdown",
   "metadata": {},
   "source": [
    "O próximo passo é testar o fucionamento do código com uma curva gerada a partir da solução de $N(t)$, onde podemos fazer a comparação do resultado com valores exatos de $L$, $a$ e $b$. Uma vez que esses resultados sejam satisfatórios, passamos ao uso de curvas reais, já com alguma confiança."
   ]
  }
 ],
 "metadata": {
  "kernelspec": {
   "display_name": "MLOOPcopy",
   "language": "python",
   "name": "mloopcopy"
  },
  "language_info": {
   "codemirror_mode": {
    "name": "ipython",
    "version": 3
   },
   "file_extension": ".py",
   "mimetype": "text/x-python",
   "name": "python",
   "nbconvert_exporter": "python",
   "pygments_lexer": "ipython3",
   "version": "3.7.6"
  }
 },
 "nbformat": 4,
 "nbformat_minor": 4
}
